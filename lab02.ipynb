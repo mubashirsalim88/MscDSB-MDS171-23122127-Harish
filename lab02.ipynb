{
 "cells": [
  {
   "cell_type": "code",
   "execution_count": 36,
   "metadata": {},
   "outputs": [
    {
     "name": "stdout",
     "output_type": "stream",
     "text": [
      "1981onenineeightone\n"
     ]
    }
   ],
   "source": [
    "Number=input(\"Enter The Number : \\n\")\n",
    "def alice(x):\n",
    "    Name={\n",
    "\n",
    "        0:\"Zero\",\n",
    "        1:\"one\",\n",
    "        2:\"two\",\n",
    "        3:\"three\",\n",
    "        4:\"four\",\n",
    "        5:\"five\",\n",
    "        6:\"six\",\n",
    "        7:\"seven\",\n",
    "        8:\"eight\",\n",
    "        9:\"nine\",\n",
    "        }\n",
    "        \n",
    "\n",
    "    #Number=str(Number)\n",
    "    converted=\"\"\n",
    "    for i in x:\n",
    "    \n",
    "        converted=converted+Name[int(i)]\n",
    "    result=x+converted\n",
    "    return result\n",
    "print(alice(Number))    \n"
   ]
  },
  {
   "cell_type": "code",
   "execution_count": null,
   "metadata": {},
   "outputs": [],
   "source": []
  },
  {
   "cell_type": "code",
   "execution_count": null,
   "metadata": {},
   "outputs": [],
   "source": []
  }
 ],
 "metadata": {
  "language_info": {
   "name": "python"
  },
  "orig_nbformat": 4
 },
 "nbformat": 4,
 "nbformat_minor": 2
}
