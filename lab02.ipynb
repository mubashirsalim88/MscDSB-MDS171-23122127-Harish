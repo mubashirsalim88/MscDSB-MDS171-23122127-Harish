{
 "cells": [
  {
   "cell_type": "code",
   "execution_count": null,
   "metadata": {},
   "outputs": [],
   "source": []
  },
  {
   "cell_type": "code",
   "execution_count": 63,
   "metadata": {},
   "outputs": [
    {
     "name": "stdout",
     "output_type": "stream",
     "text": [
      "7584598494sevenfiveeightfourfivenineeightfourninefour\n"
     ]
    }
   ],
   "source": [
    "choice=input(\"Enter 'A' For Method 1 and 'B' For method 2\").upper()\n",
    "Number=input(\"Enter The Number : \\n\")\n",
    "if choice==\"A\":\n",
    "    print(Method1(Number))\n",
    "if choice==\"B\":\n",
    "    print(Method2(Number))\n",
    "  \n",
    "\n",
    "def Method1(X):\n",
    "   \n",
    "    Name={\n",
    "\n",
    "            0:\"Zero\",\n",
    "            1:\"one\",\n",
    "            2:\"two\",\n",
    "            3:\"three\",\n",
    "            4:\"four\",\n",
    "            5:\"five\",\n",
    "            6:\"six\",\n",
    "            7:\"seven\",\n",
    "            8:\"eight\",\n",
    "            9:\"nine\",\n",
    "        }\n",
    "            \n",
    "\n",
    "        #Number=str(Number)\n",
    "    converted=\"\"\n",
    "    for i in Number:\n",
    "\n",
    "        converted=converted+Name[int(i)]\n",
    "    result=Number+converted\n",
    "    return result\n",
    "def Method2(X):\n",
    "\n",
    "    Name=[\"Zero\",\"One\",\"Two\",\"Three\",\"Four\",\"Five\",\"Six\",\"Seven\",\"Eight\",\"Nine\"]\n",
    "    AliceName=\"\"\n",
    "    for i in Number:\n",
    "\n",
    "        if i == \"0\":\n",
    "            AliceName=(AliceName ) +Name[0]\n",
    "        if i == \"1\":\n",
    "            AliceName = AliceName + Name[1]\n",
    "        if i == \"2\":\n",
    "            AliceName = AliceName + Name[2]\n",
    "        if i == \"3\":\n",
    "            AliceName = AliceName + Name[3]\n",
    "        if i == \"4\":\n",
    "            AliceName = AliceName + Name[4]\n",
    "        if i == \"5\":\n",
    "            AliceName = AliceName + Name[5]\n",
    "        if i == \"6\":\n",
    "            AliceName = AliceName + Name[6]\n",
    "        if i == \"7\":\n",
    "            AliceName = AliceName + Name[7]\n",
    "        if i == \"8\":\n",
    "            AliceName = AliceName + Name[8]\n",
    "        if i == \"9\":\n",
    "            AliceName = AliceName + Name[9]\n",
    "    result=(AliceName+ (Number))       \n",
    "    return result\n",
    "        \n",
    "\n",
    "        \n"
   ]
  },
  {
   "cell_type": "code",
   "execution_count": null,
   "metadata": {},
   "outputs": [],
   "source": []
  },
  {
   "cell_type": "code",
   "execution_count": null,
   "metadata": {},
   "outputs": [],
   "source": []
  }
 ],
 "metadata": {
  "kernelspec": {
   "display_name": "Python 3",
   "language": "python",
   "name": "python3"
  },
  "language_info": {
   "name": "python",
   "version": "3.11.4"
  },
  "orig_nbformat": 4
 },
 "nbformat": 4,
 "nbformat_minor": 2
}
