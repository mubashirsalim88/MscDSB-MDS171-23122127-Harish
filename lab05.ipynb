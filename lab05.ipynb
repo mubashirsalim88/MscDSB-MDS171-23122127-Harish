{
 "cells": [
  {
   "cell_type": "code",
   "execution_count": 27,
   "metadata": {},
   "outputs": [
    {
     "name": "stdout",
     "output_type": "stream",
     "text": [
      "Entered String Is : hello harish\n",
      "Total Vowel Are : 4\n",
      "A Occurs : 1\n",
      "E Occurs : 1\n",
      "I Occurs : 1\n",
      "O Occurs : 1\n",
      "U Occurs : 0\n",
      "Vowel Percentage In The Given String Is : 33.33333333333333\n"
     ]
    }
   ],
   "source": [
    "Name=input(\"Enter A String Name : \\n\").lower()\n",
    "print(\"Entered String Is :\",Name)\n",
    "Wordlength=int(len(Name))\n",
    "counta=0\n",
    "counte=0\n",
    "counti=0\n",
    "counto=0\n",
    "countu=0\n",
    "\n",
    "for element in Name:\n",
    "    if \"a\" in element:\n",
    "        counta=counta+1      \n",
    "   \n",
    "    elif \"e\" in element:\n",
    "        counte=counte+1  \n",
    "       \n",
    "    elif \"i\" in element:\n",
    "        counti=counti+1\n",
    "    \n",
    "    elif \"o\" in element:\n",
    "        counto=counto+1 \n",
    "       \n",
    "    elif \"u\" in element:\n",
    "        countu=countu+1 \n",
    "Total=int(counta)+int(counte)+int(counti)+int(counto)+int(countu)\n",
    "print(\"Total Vowel Are :\",Total)\n",
    "print(\"A Occurs :\",counta)\n",
    "print(\"E Occurs :\",counte)\n",
    "print(\"I Occurs :\",counti)\n",
    "print(\"O Occurs :\",counto)\n",
    "print(\"U Occurs :\",countu) \n",
    "Percentage=(int(Total)/Wordlength)*100\n",
    "print(\"Vowel Percentage In The Given String Is :\",Percentage) \n",
    "\n",
    "    \n",
    "         \n",
    "\n"
   ]
  },
  {
   "cell_type": "code",
   "execution_count": null,
   "metadata": {},
   "outputs": [],
   "source": []
  },
  {
   "cell_type": "code",
   "execution_count": null,
   "metadata": {},
   "outputs": [],
   "source": []
  }
 ],
 "metadata": {
  "kernelspec": {
   "display_name": "Python 3",
   "language": "python",
   "name": "python3"
  },
  "language_info": {
   "codemirror_mode": {
    "name": "ipython",
    "version": 3
   },
   "file_extension": ".py",
   "mimetype": "text/x-python",
   "name": "python",
   "nbconvert_exporter": "python",
   "pygments_lexer": "ipython3",
   "version": "3.11.4"
  },
  "orig_nbformat": 4
 },
 "nbformat": 4,
 "nbformat_minor": 2
}
